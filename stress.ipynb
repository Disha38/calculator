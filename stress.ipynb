{
  "cells": [
    {
      "cell_type": "markdown",
      "metadata": {
        "id": "view-in-github",
        "colab_type": "text"
      },
      "source": [
        "<a href=\"https://colab.research.google.com/github/Disha38/calculator/blob/main/stress.ipynb\" target=\"_parent\"><img src=\"https://colab.research.google.com/assets/colab-badge.svg\" alt=\"Open In Colab\"/></a>"
      ]
    },
    {
      "cell_type": "code",
      "execution_count": 12,
      "metadata": {
        "id": "f6gY4VvdcDwa"
      },
      "outputs": [],
      "source": [
        "import numpy as np\n",
        "import pandas as pd\n",
        "from sklearn import datasets, svm, metrics\n",
        "import matplotlib.pyplot as plt"
      ]
    },
    {
      "cell_type": "code",
      "execution_count": 13,
      "metadata": {
        "id": "_t9vmqydf7Kb"
      },
      "outputs": [],
      "source": [
        "trainFile = pd.read_csv('/train.csv').drop(columns=\"datasetId\")\n",
        "testFile = pd.read_csv('/test.csv').drop(columns=\"datasetId\")"
      ]
    },
    {
      "cell_type": "code",
      "execution_count": 14,
      "metadata": {
        "id": "SZl75oichuhX"
      },
      "outputs": [],
      "source": [
        "X_train = trainFile.drop(columns='condition')\n",
        "y_train = trainFile['condition']\n",
        "X_test = testFile.drop(columns='condition')\n",
        "y_test = testFile['condition']"
      ]
    },
    {
      "cell_type": "code",
      "source": [
        "print(X_train.head())\n",
        "print(X_test.head())\n"
      ],
      "metadata": {
        "colab": {
          "base_uri": "https://localhost:8080/"
        },
        "id": "PMaUTG4c7TOv",
        "outputId": "194965a3-7f21-4582-a1c1-a6a4052fb42c"
      },
      "execution_count": 15,
      "outputs": [
        {
          "output_type": "stream",
          "name": "stdout",
          "text": [
            "      MEAN_RR   MEDIAN_RR        SDRR      RMSSD       SDSD  SDRR_RMSSD  \\\n",
            "0  885.157845  853.763730  140.972741  15.554505  15.553371    9.063146   \n",
            "1  939.425371  948.357865   81.317742  12.964439  12.964195    6.272369   \n",
            "2  898.186047  907.006860   84.497236  16.305279  16.305274    5.182201   \n",
            "3  881.757865  893.460030   90.370537  15.720468  15.720068    5.748591   \n",
            "4  809.625331  811.184865   62.766242  19.213819  19.213657    3.266724   \n",
            "\n",
            "          HR      pNN25     pNN50        SD1  ...     LF_PCT      LF_NU  \\\n",
            "0  69.499952  11.133333  0.533333  11.001565  ...  27.375666  98.485263   \n",
            "1  64.363150   5.600000  0.000000   9.170129  ...  22.954139  99.695397   \n",
            "2  67.450066  13.066667  0.200000  11.533417  ...  48.335104  98.950472   \n",
            "3  68.809562  11.800000  0.133333  11.119476  ...  29.290305  98.224706   \n",
            "4  74.565728  20.200000  0.200000  13.590641  ...  54.242160  96.720007   \n",
            "\n",
            "          HF    HF_PCT     HF_NU           TP       LF_HF     HF_LF    sampen  \\\n",
            "0  15.522603  0.421047  1.514737  3686.666157   65.018055  0.015380  2.139754   \n",
            "1   2.108525  0.070133  0.304603  3006.487251  327.296635  0.003055  2.174499   \n",
            "2  13.769729  0.512671  1.049528  2685.879461   94.280910  0.010607  2.135350   \n",
            "3  18.181913  0.529387  1.775294  3434.520980   55.328701  0.018074  2.178341   \n",
            "4  48.215822  1.839473  3.279993  2621.175204   29.487873  0.033912  2.221121   \n",
            "\n",
            "     higuci  \n",
            "0  1.163485  \n",
            "1  1.084711  \n",
            "2  1.176315  \n",
            "3  1.179688  \n",
            "4  1.249612  \n",
            "\n",
            "[5 rows x 34 columns]\n",
            "      MEAN_RR   MEDIAN_RR        SDRR      RMSSD       SDSD  SDRR_RMSSD  \\\n",
            "0  721.901897  727.267280   74.722315  12.361264  12.361069    6.044877   \n",
            "1  843.538633  844.407930   58.499429  19.298880  19.298795    3.031234   \n",
            "2  958.523868  966.671125  132.849110  21.342715  21.342653    6.224565   \n",
            "3  824.838669  842.485905  117.822094  11.771814  11.771248   10.008830   \n",
            "4  756.707933  747.941620  143.968457  13.357748  13.356388   10.777899   \n",
            "\n",
            "          HR      pNN25     pNN50        SD1  ...     LF_PCT      LF_NU  \\\n",
            "0  84.121868   4.933333  0.000000   8.743513  ...  36.260015  90.239711   \n",
            "1  71.478642  21.000000  0.200000  13.650863  ...  66.424024  98.336849   \n",
            "2  63.874293  24.133333  1.800000  15.096571  ...  47.933575  99.233584   \n",
            "3  74.330531   4.733333  0.533333   8.326307  ...  17.722743  96.641348   \n",
            "4  82.092049   5.933333  0.666667   9.447545  ...   9.871963  93.707747   \n",
            "\n",
            "          HF    HF_PCT     HF_NU           TP       LF_HF     HF_LF    sampen  \\\n",
            "0  66.617057  3.921868  9.760289  1698.605390    9.245599  0.108160  2.097342   \n",
            "1  26.500086  1.123416  1.663151  2358.884694   59.126832  0.016913  2.217275   \n",
            "2  16.024935  0.370208  0.766416  4328.633724  129.477524  0.007723  2.217136   \n",
            "3  17.581470  0.615932  3.358652  2854.449091   28.773854  0.034754  2.106863   \n",
            "4  35.199054  0.662879  6.292253  5310.027472   14.892559  0.067148  1.912191   \n",
            "\n",
            "     higuci  \n",
            "0  1.243696  \n",
            "1  1.250056  \n",
            "2  1.144943  \n",
            "3  1.142355  \n",
            "4  1.128098  \n",
            "\n",
            "[5 rows x 34 columns]\n"
          ]
        }
      ]
    },
    {
      "cell_type": "code",
      "source": [
        "print(\"NaN values in X_train before any processing:\", X_train.isnull().sum())\n",
        "print(\"NaN values in y_train before any processing:\", y_train.isnull().sum())\n",
        "\n",
        "# Check for NaN values in X_test and y_test\n",
        "print(\"NaN values in X_test before any processing:\", X_test.isnull().sum())\n",
        "print(\"NaN values in y_test before any processing:\", y_test.isnull().sum())\n"
      ],
      "metadata": {
        "colab": {
          "base_uri": "https://localhost:8080/"
        },
        "id": "2yc4FB0W7m-a",
        "outputId": "388d37ee-eabc-4eec-c369-e66fd8ebbf39"
      },
      "execution_count": 17,
      "outputs": [
        {
          "output_type": "stream",
          "name": "stdout",
          "text": [
            "NaN values in X_train before any processing: MEAN_RR              0\n",
            "MEDIAN_RR            0\n",
            "SDRR                 0\n",
            "RMSSD                0\n",
            "SDSD                 0\n",
            "SDRR_RMSSD           0\n",
            "HR                   0\n",
            "pNN25                0\n",
            "pNN50                0\n",
            "SD1                  0\n",
            "SD2                  0\n",
            "KURT                 0\n",
            "SKEW                 0\n",
            "MEAN_REL_RR          0\n",
            "MEDIAN_REL_RR        0\n",
            "SDRR_REL_RR          0\n",
            "RMSSD_REL_RR         0\n",
            "SDSD_REL_RR          0\n",
            "SDRR_RMSSD_REL_RR    0\n",
            "KURT_REL_RR          0\n",
            "SKEW_REL_RR          0\n",
            "VLF                  0\n",
            "VLF_PCT              0\n",
            "LF                   0\n",
            "LF_PCT               0\n",
            "LF_NU                0\n",
            "HF                   0\n",
            "HF_PCT               0\n",
            "HF_NU                0\n",
            "TP                   0\n",
            "LF_HF                0\n",
            "HF_LF                0\n",
            "sampen               0\n",
            "higuci               0\n",
            "dtype: int64\n",
            "NaN values in y_train before any processing: 1\n",
            "NaN values in X_test before any processing: MEAN_RR              0\n",
            "MEDIAN_RR            0\n",
            "SDRR                 0\n",
            "RMSSD                0\n",
            "SDSD                 0\n",
            "SDRR_RMSSD           0\n",
            "HR                   0\n",
            "pNN25                0\n",
            "pNN50                0\n",
            "SD1                  0\n",
            "SD2                  0\n",
            "KURT                 0\n",
            "SKEW                 0\n",
            "MEAN_REL_RR          0\n",
            "MEDIAN_REL_RR        0\n",
            "SDRR_REL_RR          0\n",
            "RMSSD_REL_RR         0\n",
            "SDSD_REL_RR          0\n",
            "SDRR_RMSSD_REL_RR    0\n",
            "KURT_REL_RR          0\n",
            "SKEW_REL_RR          0\n",
            "VLF                  0\n",
            "VLF_PCT              0\n",
            "LF                   0\n",
            "LF_PCT               0\n",
            "LF_NU                0\n",
            "HF                   0\n",
            "HF_PCT               0\n",
            "HF_NU                0\n",
            "TP                   0\n",
            "LF_HF                0\n",
            "HF_LF                0\n",
            "sampen               0\n",
            "higuci               0\n",
            "dtype: int64\n",
            "NaN values in y_test before any processing: 0\n"
          ]
        }
      ]
    },
    {
      "cell_type": "code",
      "source": [
        "X_train = X_train.fillna(X_train.mean())\n",
        "X_test = X_test.fillna(X_test.mean())\n"
      ],
      "metadata": {
        "id": "5XG5ha0w7pTx"
      },
      "execution_count": 18,
      "outputs": []
    },
    {
      "cell_type": "code",
      "source": [
        "# Remove rows where y_train or y_test has NaN\n",
        "valid_train_indices = ~y_train.isnull()\n",
        "valid_test_indices = ~y_test.isnull()\n",
        "\n",
        "X_train = X_train[valid_train_indices]\n",
        "y_train = y_train[valid_train_indices]\n",
        "X_test = X_test[valid_test_indices]\n",
        "y_test = y_test[valid_test_indices]\n"
      ],
      "metadata": {
        "id": "fwClg7kY7tNd"
      },
      "execution_count": 19,
      "outputs": []
    },
    {
      "cell_type": "code",
      "source": [
        "print(\"NaN values in X_train after cleaning:\", X_train.isnull().sum())\n",
        "print(\"NaN values in y_train after cleaning:\", y_train.isnull().sum())\n",
        "\n",
        "print(\"NaN values in X_test after cleaning:\", X_test.isnull().sum())\n",
        "print(\"NaN values in y_test after cleaning:\", y_test.isnull().sum())\n"
      ],
      "metadata": {
        "colab": {
          "base_uri": "https://localhost:8080/"
        },
        "id": "mtumSNX77w8_",
        "outputId": "2f6e2246-a014-4125-f3f5-596f642a0940"
      },
      "execution_count": 20,
      "outputs": [
        {
          "output_type": "stream",
          "name": "stdout",
          "text": [
            "NaN values in X_train after cleaning: MEAN_RR              0\n",
            "MEDIAN_RR            0\n",
            "SDRR                 0\n",
            "RMSSD                0\n",
            "SDSD                 0\n",
            "SDRR_RMSSD           0\n",
            "HR                   0\n",
            "pNN25                0\n",
            "pNN50                0\n",
            "SD1                  0\n",
            "SD2                  0\n",
            "KURT                 0\n",
            "SKEW                 0\n",
            "MEAN_REL_RR          0\n",
            "MEDIAN_REL_RR        0\n",
            "SDRR_REL_RR          0\n",
            "RMSSD_REL_RR         0\n",
            "SDSD_REL_RR          0\n",
            "SDRR_RMSSD_REL_RR    0\n",
            "KURT_REL_RR          0\n",
            "SKEW_REL_RR          0\n",
            "VLF                  0\n",
            "VLF_PCT              0\n",
            "LF                   0\n",
            "LF_PCT               0\n",
            "LF_NU                0\n",
            "HF                   0\n",
            "HF_PCT               0\n",
            "HF_NU                0\n",
            "TP                   0\n",
            "LF_HF                0\n",
            "HF_LF                0\n",
            "sampen               0\n",
            "higuci               0\n",
            "dtype: int64\n",
            "NaN values in y_train after cleaning: 0\n",
            "NaN values in X_test after cleaning: MEAN_RR              0\n",
            "MEDIAN_RR            0\n",
            "SDRR                 0\n",
            "RMSSD                0\n",
            "SDSD                 0\n",
            "SDRR_RMSSD           0\n",
            "HR                   0\n",
            "pNN25                0\n",
            "pNN50                0\n",
            "SD1                  0\n",
            "SD2                  0\n",
            "KURT                 0\n",
            "SKEW                 0\n",
            "MEAN_REL_RR          0\n",
            "MEDIAN_REL_RR        0\n",
            "SDRR_REL_RR          0\n",
            "RMSSD_REL_RR         0\n",
            "SDSD_REL_RR          0\n",
            "SDRR_RMSSD_REL_RR    0\n",
            "KURT_REL_RR          0\n",
            "SKEW_REL_RR          0\n",
            "VLF                  0\n",
            "VLF_PCT              0\n",
            "LF                   0\n",
            "LF_PCT               0\n",
            "LF_NU                0\n",
            "HF                   0\n",
            "HF_PCT               0\n",
            "HF_NU                0\n",
            "TP                   0\n",
            "LF_HF                0\n",
            "HF_LF                0\n",
            "sampen               0\n",
            "higuci               0\n",
            "dtype: int64\n",
            "NaN values in y_test after cleaning: 0\n"
          ]
        }
      ]
    },
    {
      "cell_type": "code",
      "source": [
        "from sklearn.preprocessing import StandardScaler\n",
        "from sklearn.neighbors import KNeighborsClassifier\n",
        "import numpy as np\n",
        "\n",
        "# Scale the data\n",
        "scaler = StandardScaler()\n",
        "X_train_scaled = scaler.fit_transform(X_train)\n",
        "X_test_scaled = scaler.transform(X_test)\n",
        "\n",
        "# Train the K-NN classifier\n",
        "knn = KNeighborsClassifier(n_neighbors=3)\n",
        "knn.fit(X_train_scaled, y_train)\n",
        "\n",
        "# Evaluate the model\n",
        "print('Accuracy of K-NN classifier on training set: {:.2f}'.format(knn.score(X_train_scaled, y_train)))\n",
        "print('Accuracy of K-NN classifier on test set: {:.2f}'.format(knn.score(X_test_scaled, y_test)))\n"
      ],
      "metadata": {
        "id": "Ul-Qz9GN70fG"
      },
      "execution_count": null,
      "outputs": []
    }
  ],
  "metadata": {
    "colab": {
      "provenance": [],
      "authorship_tag": "ABX9TyOw+sChWwMwmemqvqg/nxJI",
      "include_colab_link": true
    },
    "kernelspec": {
      "display_name": "Python 3",
      "name": "python3"
    },
    "language_info": {
      "name": "python"
    }
  },
  "nbformat": 4,
  "nbformat_minor": 0
}